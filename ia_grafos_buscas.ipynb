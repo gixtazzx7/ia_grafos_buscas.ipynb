{
  "nbformat": 4,
  "nbformat_minor": 0,
  "metadata": {
    "colab": {
      "provenance": []
    },
    "kernelspec": {
      "name": "python3",
      "display_name": "Python 3"
    },
    "language_info": {
      "name": "python"
    }
  },
  "cells": [
    {
      "cell_type": "markdown",
      "source": [
        "**Lista de Exercícios N2**\n",
        "\n",
        "Tema: Grafos e Algoritmos de Busca (Dijkstra, A*, em-ordem, pré-ordem e pós-ordem)\n",
        "\n",
        "Disciplina: Inteligência Artificial\\\n",
        "Ambiente: Google Colab\\\n",
        "Entrega: via repositório individual no GitHub"
      ],
      "metadata": {
        "id": "51-tDsdpFH9B"
      }
    },
    {
      "cell_type": "markdown",
      "source": [
        "**Nome completo:**\n",
        "  Gustavo Henrique de Andrade Pinheiro\n",
        "**Matricula:**  2252822"
      ],
      "metadata": {
        "id": "-02FfQpMKNEb"
      }
    },
    {
      "cell_type": "markdown",
      "source": [
        "**Regras Gerais**\n",
        "\n",
        "- Trabalho individual.\n",
        "\n",
        "- Linguagem: Python 3 (Google Colab).\n",
        "\n",
        "- É permitido usar: heapq, numpy, matplotlib, dataclasses.\n",
        "\n",
        "- Proibido usar funções prontas de shortest path (networkx.shortest_path, scipy.sparse.csgraph.dijkstra, etc.).\n",
        "\n",
        "O Notebook (.ipynb) deve conter:\n",
        "\n",
        "- Identificação: Gustavo Henrique de Andrade Pinheiro 2252822, ENGOC221N01\n",
        "\n",
        "- Código, testes e reflexões\n",
        "\n",
        "- Seções organizadas conforme o roteiro abaixo."
      ],
      "metadata": {
        "id": "iJ41FayHF8rV"
      }
    },
    {
      "cell_type": "markdown",
      "source": [
        "**Parte A — Dijkstra (Caminho Mínimo em Grafos Ponderados Positivos)**\n",
        "\n",
        "> Imagine que você está projetando um sistema de navegação para ambulâncias em uma cidade. Cada interseção é representada como um nó e cada rua como uma aresta ponderada com o tempo médio de deslocamento. Você precisa encontrar a rota mais rápida entre o hospital e o local de atendimento, garantindo que o caminho tenha custo mínimo e seja correto mesmo em grandes redes urbanas.\n",
        "\n",
        "**Atividades**\n",
        "\n",
        "- Implemente o algoritmo de Dijkstra, retornando o custo mínimo (dist) e os predecessores (parent).\n",
        "\n",
        "- Crie uma função reconstruct_path(parent, target) que reconstrua o trajeto.\n",
        "\n",
        "Teste o algoritmo em um grafo de exemplo.\n",
        "\n",
        "**Explique (Questões Discursivas):**\n",
        "\n",
        "1. Por que Dijkstra exige arestas não negativas?\n",
        "Porque o algoritmo assume que, ao retirar o nó com menor distância estimada, esse valor já é definitivo. Arestas negativas poderiam reduzir distâncias de nós já finalizados, invalidando essa suposição.\n",
        "2. Qual a complexidade do algoritmo com lista de adjacência e heapq?\n",
        "Aproximadamente O((V + E) log V). Operações de heap dominam o custo; para grafos esparsos isso fica próximo de O(V log V).\n",
        "💡 Dica: Compare seu resultado com um mapa simples — se mudar o peso de uma rua, a rota muda?"
      ],
      "metadata": {
        "id": "XKYf0iFXGaV1"
      }
    },
    {
      "cell_type": "code",
      "source": [
        "import heapq\n",
        "from typing import Dict, List, Tuple, Any\n",
        "\n",
        "\n",
        "def dijkstra(grafo: Dict[Any, List[Tuple[Any, float]]], origem: Any):\n",
        "\"\"\"Retorna dicionários: distancias (custo mínimo) e predecessores (pai).\n",
        "grafo: dict[node] = [(vizinho, peso), ...]\n",
        "origem: nó inicial\n",
        "\"\"\"\n",
        "# inicialização\n",
        "dist = {no: float('inf') for no in grafo}\n",
        "pai = {no: None for no in grafo}\n",
        "dist[origem] = 0.0\n",
        "\n",
        "\n",
        "fila = [(0.0, origem)] # (custo acumulado, nó)\n",
        "vistos = set()\n",
        "\n",
        "\n",
        "while fila:\n",
        "custo_atual, nodo = heapq.heappop(fila)\n",
        "if nodo in vistos:\n",
        "continue\n",
        "vistos.add(nodo)\n",
        "\n",
        "\n",
        "for vizinho, peso in grafo[nodo]:\n",
        "novo_custo = custo_atual + peso\n",
        "if novo_custo < dist[vizinho]:\n",
        "dist[vizinho] = novo_custo\n",
        "pai[vizinho] = nodo\n",
        "heapq.heappush(fila, (novo_custo, vizinho))\n",
        "\n",
        "\n",
        "return dist, pai\n",
        "\n",
        "\n",
        "\n",
        "\n",
        "def reconstruct(came_from: Dict[Any, Any], destino: Any) -> List[Any]:\n",
        "\"\"\"Reconstrói o caminho usando o dicionário de predecessores.\n",
        "Esta função é reutilizável tanto para Dijkstra quanto para A*.\n",
        "\"\"\"\n",
        "caminho = []\n",
        "atual = destino\n",
        "while atual is not None:\n",
        "caminho.append(atual)\n",
        "atual = came_from.get(atual)\n",
        "caminho.reverse()\n",
        "return caminho"
      ],
      "metadata": {
        "id": "_7qVHP30FFF5"
      },
      "execution_count": null,
      "outputs": []
    },
    {
      "cell_type": "markdown",
      "source": [],
      "metadata": {
        "id": "lZAGP4qeZCnz"
      }
    },
    {
      "cell_type": "code",
      "source": [
        "grafo_ex = {\n",
        "'Hospital': [('A', 4), ('B', 2)],\n",
        "'A': [('C', 3), ('D', 2)],\n",
        "'B': [('A', 1), ('D', 7)],\n",
        "'C': [('D', 4), ('Destino', 5)],\n",
        "'D': [('Destino', 1)],\n",
        "'Destino': []\n",
        "}\n",
        "\n",
        "\n",
        "distancias, pais = dijkstra(grafo_ex, 'Hospital')\n",
        "print('Distâncias:', distancias)\n",
        "print('Pais:', pais)\n",
        "print('Caminho Hospital -> Destino:', reconstruct(pais, 'Destino'))"
      ],
      "metadata": {
        "id": "vKwE6Qo2IBFc"
      },
      "execution_count": null,
      "outputs": []
    },
    {
      "cell_type": "markdown",
      "source": [
        "**Parte B — A-Star (Busca Informada com Heurística Admissível)**\n",
        "\n",
        "> Agora, considere um robô autônomo que deve se deslocar por um labirinto 2D, evitando obstáculos e chegando ao destino no menor tempo possível.\n",
        "Diferente do Dijkstra, o robô pode usar uma heurística (como a distância ao alvo) para priorizar rotas promissoras, economizando tempo de busca.\n",
        "\n",
        "**Atividades**\n",
        "\n",
        "1. Gere um grid 20x20 com ~15% de obstáculos aleatórios.\n",
        "\n",
        "2. Implemente a função heuristic(a, b) (distância Manhattan).\n",
        "\n",
        "3. Desenvolva o algoritmo a_star(grid, start, goal, h) e teste-o.\n",
        "\n",
        "**Explique (Questões Discursivas):**\n",
        "\n",
        "1. A* vs Dijkstra: qual expande menos nós?\n",
        "A geralmente expande menos nós que Dijkstra* quando a heurística é informativa, porque ela direciona a busca em direção ao objetivo.\n",
        "2. Por que a heurística Manhattan é admissível nesse caso?\n",
        "Manhattan é admissível em grids 4-direcionais com custo unitário: ela nunca superestima o número mínimo de passos.\n",
        "💡 Cenário real: O A* é amplamente usado em robôs aspiradores, drones e jogos. Seu desafio é aplicar o mesmo raciocínio."
      ],
      "metadata": {
        "id": "9vCEA95GGx_6"
      }
    },
    {
      "cell_type": "code",
      "source": [
        "import numpy as np\n",
        "import heapq\n",
        "import random\n",
        "import matplotlib.pyplot as plt\n",
        "from typing import Tuple, List\n",
        "\n",
        "\n",
        "# heurística (Manhattan)\n",
        "def heuristica(a: Tuple[int,int], b: Tuple[int,int]) -> int:\n",
        "return abs(a[0]-b[0]) + abs(a[1]-b[1])\n",
        "\n",
        "\n",
        "\n",
        "\n",
        "def gerar_grid(tam: int = 20, prob_obst: float = 0.15, seed: int = None) -> np.ndarray:\n",
        "if seed is not None:\n",
        "random.seed(seed)\n",
        "np.random.seed(seed)\n",
        "grid = np.zeros((tam, tam), dtype=int)\n",
        "for i in range(tam):\n",
        "for j in range(tam):\n",
        "if random.random() < prob_obst:\n",
        "grid[i, j] = 1\n",
        "return grid\n",
        "\n",
        "\n",
        "\n",
        "\n",
        "def vizinhos_4(pos: Tuple[int,int], grid: np.ndarray):\n",
        "x, y = pos\n",
        "passos = [(1,0), (-1,0), (0,1), (0,-1)]\n",
        "for dx, dy in passos:\n",
        "nx, ny = x + dx, y + dy\n",
        "if 0 <= nx < grid.shape[0] and 0 <= ny < grid.shape[1] and grid[nx, ny] == 0:\n",
        "yield (nx, ny)\n",
        "\n",
        "\n",
        "\n",
        "\n",
        "def a_star(grid: np.ndarray, inicio: Tuple[int,int], objetivo: Tuple[int,int]):\n",
        "\"\"\"Retorna (caminho, g_scores, came_from, expand_count).\"\"\"\n",
        "aberto = [] # heap de (f, h, nó)\n",
        "g_score = {inicio: 0}\n",
        "came_from = {inicio: None}\n",
        "\n",
        "\n",
        "f_inicio = heuristica(inicio, objetivo)\n",
        "heapq.heappush(aberto, (f_inicio, heuristica(inicio, objetivo), inicio))\n",
        "\n",
        "\n",
        "fechado = set()\n",
        "expandidos = 0\n",
        "\n",
        "\n",
        "while aberto:\n",
        "f, h_val, atual = heapq.heappop(aberto)\n",
        "if atual in fechado:\n",
        "continue\n",
        "fechado.add(atual)\n",
        "expandidos += 1\n",
        "\n",
        "\n",
        "if atual == objetivo:\n",
        "caminho = reconstruct(came_from, objetivo)\n",
        "return caminho, g_score, came_from, expandidos\n",
        "\n",
        "\n",
        "for nb in vizinhos_4(atual, grid):\n",
        "tentative_g = g_score[atual] + 1 # custo unitário por passo\n",
        "if nb not in g_score or tentative_g < g_score[nb]:\n",
        "g_score[nb] = tentative_g\n",
        "came_from[nb] = atual\n",
        "f_nb = tentative_g + heuristica(nb, objetivo)\n",
        "heapq.heappush(aberto, (f_nb, heuristica(nb, objetivo), nb))\n",
        "\n",
        "\n",
        "return None, g_score, came_from, expandidos"
      ],
      "metadata": {
        "id": "XMIxqCl3FEt6"
      },
      "execution_count": null,
      "outputs": []
    },
    {
      "cell_type": "markdown",
      "source": [],
      "metadata": {
        "id": "K2XNaRjJjf1Z"
      }
    },
    {
      "cell_type": "code",
      "source": [
        "grid = gerar_grid(tam=20, prob_obst=0.15, seed=42)\n",
        "start = (0,0)\n",
        "goal = (19,19)\n",
        "# garantir início e fim livres\n",
        "grid[start] = 0\n",
        "grid[goal] = 0\n",
        "\n",
        "\n",
        "caminho, gmap, came_from, exp = a_star(grid, start, goal)\n",
        "print(f'Nós expandidos pelo A*: {exp}')\n",
        "if caminho:\n",
        "print(f'Passos do caminho: {len(caminho)-1}')\n",
        "else:\n",
        "print('Nenhum caminho encontrado')\n",
        "\n",
        "\n",
        "# plot simples\n",
        "plt.figure(figsize=(6,6))\n",
        "plt.imshow(grid, cmap='gray_r', origin='upper')\n",
        "if caminho:\n",
        "xs = [c[1] for c in caminho]\n",
        "ys = [c[0] for c in caminho]\n",
        "plt.plot(xs, ys, linewidth=2)\n",
        "plt.scatter([start[1], goal[1]], [start[0], goal[0]], c=['green','red'], s=40)\n",
        "plt.gca().invert_yaxis()\n",
        "plt.title('Grid e caminho encontrado (A*)')\n",
        "plt.show()"
      ],
      "metadata": {
        "id": "zQ1WgmxRFB8N"
      },
      "execution_count": null,
      "outputs": []
    },
    {
      "cell_type": "markdown",
      "source": [
        "**Parte C — Árvores Binárias e Percursos (DFS em-ordem, pré-ordem e pós-ordem)**\n",
        "\n",
        "> Você está desenvolvendo um sistema de recomendação que organiza produtos em uma árvore binária de busca (BST), conforme o preço. Cada nó é um produto e a travessia da árvore pode ser usada para: 1. Ordenar produtos (em-ordem); 2. Clonar a estrutura (pré-ordem); 3. Calcular totais ou liberar memória (pós-ordem);\n",
        "\n",
        "**Atividades**\n",
        "\n",
        "1. Crie uma BST com os valores: [50, 30, 70, 20, 40, 60, 80, 35, 45].\n",
        "\n",
        "Implemente os percursos:\n",
        "\n",
        "1. in_order(root)\n",
        "\n",
        "2. pre_order(root)\n",
        "\n",
        "3. post_order(root)\n",
        "\n",
        "Teste se as saídas correspondem às travessias esperadas.\n",
        "\n",
        "**Explique (Questões Discursivas):**\n",
        "\n",
        "1. Em que situação cada tipo de percurso é mais indicado?\n",
        "Em-ordem num BST retorna os elementos ordenados — útil para listar produtos por preço.\n",
        "\n",
        "Pré-ordem é prático para serializar ou clonar a árvore (visita raiz primeiro).\n",
        "\n",
        "Pós-ordem é usado quando precisamos processar filhos antes do nó (ex.: liberar memória ou avaliar expressões)."
      ],
      "metadata": {
        "id": "qJ1Rbf22IASJ"
      }
    },
    {
      "cell_type": "code",
      "source": [
        "from dataclasses import dataclass\n",
        "from typing import Optional, List\n",
        "\n",
        "\n",
        "@dataclass\n",
        "class No:\n",
        "valor: int\n",
        "esq: Optional['No'] = None\n",
        "dir: Optional['No'] = None\n",
        "\n",
        "\n",
        "\n",
        "\n",
        "def inserir_no(raiz: Optional[No], valor: int) -> No:\n",
        "if raiz is None:\n",
        "return No(valor)\n",
        "if valor < raiz.valor:\n",
        "raiz.esq = inserir_no(raiz.esq, valor)\n",
        "else:\n",
        "raiz.dir = inserir_no(raiz.dir, valor)\n",
        "return raiz\n",
        "\n",
        "\n",
        "\n",
        "\n",
        "def em_ordem(raiz: Optional[No], out: Optional[List[int]] = None) -> List[int]:\n",
        "if out is None:\n",
        "out = []\n",
        "if raiz:\n",
        "em_ordem(raiz.esq, out)\n",
        "out.append(raiz.valor)\n",
        "em_ordem(raiz.dir, out)\n",
        "return out\n",
        "\n",
        "\n",
        "\n",
        "\n",
        "def pre_ordem(raiz: Optional[No], out: Optional[List[int]] = None) -> List[int]:\n",
        "if out is None:\n",
        "out = []\n",
        "if raiz:\n",
        "out.append(raiz.valor)\n",
        "pre_ordem(raiz.esq, out)\n",
        "pre_ordem(raiz.dir, out)\n",
        "return out\n",
        "\n",
        "\n",
        "\n",
        "\n",
        "def pos_ordem(raiz: Optional[No], out: Optional[List[int]] = None) -> List[int]:\n",
        "if out is None:\n",
        "out = []\n",
        "if raiz:\n",
        "pos_ordem(raiz.esq, out)\n",
        "pos_ordem(raiz.dir, out)\n",
        "out.append(raiz.valor)\n",
        "return out"
      ],
      "metadata": {
        "id": "jxol5GNCIrM9"
      },
      "execution_count": null,
      "outputs": []
    },
    {
      "cell_type": "code",
      "source": [
        "valores = [50, 30, 70, 20, 40, 60, 80, 35, 45]\n",
        "raiz = None\n",
        "for v in valores:\n",
        "raiz = inserir_no(raiz, v)\n",
        "\n",
        "\n",
        "print('Em-ordem :', em_ordem(raiz))\n",
        "print('Pré-ordem :', pre_ordem(raiz))\n",
        "print('Pós-ordem :', pos_ordem(raiz))"
      ],
      "metadata": {
        "id": "6eP76jYWItEK"
      },
      "execution_count": null,
      "outputs": []
    },
    {
      "cell_type": "markdown",
      "source": [
        "**Parte D — Reflexões (Respostas Curtas)**\n",
        "\n",
        "Responda de forma argumentativa (5–10 linhas cada):\n",
        "\n",
        "1. Quando não é vantajoso usar A*, mesmo tendo uma heurística?\n",
        "Embora A* seja poderoso, não compensa quando: (1) a heurística é fraca (próxima de zero) — aí A* vira Dijkstra; (2) o custo de calcular a heurística é alto e anula o ganho; (3) o problema exige baixo uso de memória e A* consome muita memória com estruturas abertas; (4) em aplicações onde se aceita aproximação rápida em vez de otimalidade, algoritmos heurísticos mais simples podem ser preferíveis.\n",
        "2. Diferencie corretude e otimalidade nos algoritmos estudados.\n",
        "Corretude significa que o algoritmo produz uma solução válida quando há solução; otimalidade significa que ele produz a melhor solução (por exemplo, menor custo). Um algoritmo pode ser correto sem ser ótimo. Dijkstra e A* (com heurística admissível) são ambos ótimos sob as condições corretas.\n",
        "3. Dê um exemplo do mundo real onde cada tipo de percurso (em, pré, pós) é essencial.\n",
        "Em-ordem: imprimir uma lista de preços do menor para o maior (vendedores/estoque).\n",
        "\n",
        "Pré-ordem: salvar a estrutura de pastas/árvore para restaurar depois (serialização).\n",
        "\n",
        "Pós-ordem: remover diretórios recursivamente (deletar arquivos filhos antes do diretório pai) ou avaliar expressões aritméticas.\n",
        "4. Como heurísticas inconsistentes podem afetar o resultado do A*?\n",
        "Heurísticas inconsistentes podem fazer com que nós precisem ser reabertos (re-expandidos) quando se encontra um caminho melhor, aumentando o custo da busca. Com implementação que suporta reabertura, a otimalidade continua garantida se a heurística for admissível; sem reabertura, uma heurística inconsistente pode levar à perda da otimalidade.\n",
        "💬 Sugestão: use exemplos de mapas, jogos, sistemas de busca ou árvores sintáticas."
      ],
      "metadata": {
        "id": "5bocfC3rIuwu"
      }
    },
    {
      "cell_type": "markdown",
      "source": [
        "Insira suas respostas aqui"
      ],
      "metadata": {
        "id": "8W_afmXGI6h3"
      }
    },
    {
      "cell_type": "code",
      "source": [],
      "metadata": {
        "id": "Vo_E3Z3AI40h"
      },
      "execution_count": null,
      "outputs": []
    },
    {
      "cell_type": "markdown",
      "source": [
        "**Entrega**\n",
        "\n",
        "Crie um repositório público chamado ia-grafos-seu-nome.\n",
        "\n",
        "Envie para o repositório o arquivo ia_grafos_buscas.ipynb.\n",
        "\n",
        "Submeta o link do repositório no ambiente da disciplina **Portal Digital Fametro.**."
      ],
      "metadata": {
        "id": "vyWiRE5TJEUf"
      }
    },
    {
      "cell_type": "markdown",
      "source": [
        "**Integridade Acadêmica**\n",
        "\n",
        "1. O trabalho é individual.\n",
        "2. Discussões conceituais são permitidas, mas o código deve ser inteiramente autoral.\n",
        "3. Verificações de similaridade serão aplicadas a todas as submissões.\n",
        "4. Busque e estude os algoritmos através de pesquisas na internet, livros, slides da disciplina."
      ],
      "metadata": {
        "id": "xP1stx7fJcCV"
      }
    },
    {
      "cell_type": "code",
      "source": [],
      "metadata": {
        "id": "uxmWR_KlJXDC"
      },
      "execution_count": null,
      "outputs": []
    }
  ]
}
